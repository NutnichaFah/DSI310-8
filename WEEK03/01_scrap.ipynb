{
 "cells": [
  {
   "cell_type": "markdown",
   "id": "7fb29873-fa27-4326-86f9-73e82f69ba21",
   "metadata": {},
   "source": [
    "# 01_scrap"
   ]
  },
  {
   "cell_type": "markdown",
   "id": "fff7d78e-8711-4a3f-8dc1-70a864320f94",
   "metadata": {},
   "source": [
    "- scrapping data from thejewelrymagazine.com and upload to DataPlatform"
   ]
  },
  {
   "cell_type": "markdown",
   "id": "b50ed8d5-74b8-4b4e-9f7c-d06b0a857598",
   "metadata": {},
   "source": [
    "## Getting data from thejewelrymagazine.com"
   ]
  },
  {
   "cell_type": "code",
   "execution_count": null,
   "id": "fee95a69-25f1-4fa3-82cf-13950d18cbc9",
   "metadata": {},
   "outputs": [],
   "source": [
    "pip install scrapy"
   ]
  },
  {
   "cell_type": "markdown",
   "id": "f52cae25-89b5-4099-960a-f9e39b2a288b",
   "metadata": {},
   "source": [
    "# Import Library"
   ]
  },
  {
   "cell_type": "code",
   "execution_count": null,
   "id": "f1a062ca-b132-4000-b346-1960947f7f01",
   "metadata": {},
   "outputs": [],
   "source": [
    "import scrapy\n",
    "import pandas as pd\n",
    "\n",
    "from scrapy.crawler import CrawlerProcess\n",
    "from scrapy.crawler import CrawlerRunner\n",
    "from scrapy.spiders import CrawlSpider, Rule\n",
    "from scrapy.linkextractors import LinkExtractor"
   ]
  },
  {
   "cell_type": "code",
   "execution_count": null,
   "id": "24cc6d2d-3308-436e-853a-c2aa370b11df",
   "metadata": {},
   "outputs": [],
   "source": [
    "class magazine(scrapy.Spider):\n",
    "    name = \"events_jewelrymagazine\"\n",
    "    start_urls = ['https://www.thejewelrymagazine.com/news-trends/show-events/'\n",
    "    ]\n",
    "    \n",
    "    custom_settings = {\n",
    "        'FEEDS': { 'events_jewelrymagazine.json': { 'format': 'json',}}\n",
    "        }\n",
    "        \n",
    "    \n",
    "    def parse(self, response):\n",
    "        links = response.css('h3.entry-title a::attr(href)').extract()\n",
    "        for link in links:\n",
    "            eventsLink = 'https://www.thejewelrymagazine.com/news-trends/show-events/' + link\n",
    "            yield response.follow(link, callback=self.parse_events)\n",
    "\n",
    "    def parse_events(self, response):\n",
    "        yield{\n",
    "            'Title' : response.css('h1.entry-title::text').get().strip(),\n",
    "            'Publish_time' : response.css('time.entry-date ::text').get(),\n",
    "            'Description' : response.xpath(\"//meta[@name='description']/@content\")[0].extract(),\n",
    "            'Link' : response.xpath(\"//link[@rel='canonical']/@href\")[0].extract()\n",
    "        }"
   ]
  },
  {
   "cell_type": "code",
   "execution_count": null,
   "id": "8300141d-d716-430b-97fd-3264ca39f18e",
   "metadata": {},
   "outputs": [],
   "source": [
    "process = CrawlerProcess()\n",
    "process.crawl(magazine)\n",
    "process.start()"
   ]
  },
  {
   "cell_type": "markdown",
   "id": "ed78a28c-318f-4dff-90ad-639fb6abac88",
   "metadata": {},
   "source": [
    "# Upload data to DataPlatform"
   ]
  },
  {
   "cell_type": "code",
   "execution_count": null,
   "id": "10269a24-b5aa-4419-ab94-798cd0f105e2",
   "metadata": {},
   "outputs": [],
   "source": [
    "import requests\n",
    "from tqdm.auto import tqdm"
   ]
  },
  {
   "cell_type": "code",
   "execution_count": null,
   "id": "fac75a19-b004-44d2-8059-44b2422c572e",
   "metadata": {},
   "outputs": [],
   "source": [
    "from dsmlibrary.datanode import DataNode"
   ]
  },
  {
   "cell_type": "code",
   "execution_count": null,
   "id": "2adf0724-98be-4d02-8276-0fba4982d324",
   "metadata": {},
   "outputs": [],
   "source": [
    "dir_raw_id = 62"
   ]
  },
  {
   "cell_type": "code",
   "execution_count": null,
   "id": "5a431cca-e670-4d36-83a0-e75417276a45",
   "metadata": {},
   "outputs": [],
   "source": [
    "datanode = DataNode()"
   ]
  },
  {
   "cell_type": "code",
   "execution_count": null,
   "id": "e0c4463d-e3b3-42d5-acc7-06df671a3748",
   "metadata": {},
   "outputs": [],
   "source": [
    "datanode.upload_file(directory_id=dir_raw_id, file_path='events_jewelrymagazine.json')"
   ]
  },
  {
   "cell_type": "code",
   "execution_count": null,
   "id": "52b8e0f2-c2eb-4b51-88be-eb7b44895f26",
   "metadata": {},
   "outputs": [],
   "source": []
  }
 ],
 "metadata": {
  "kernelspec": {
   "display_name": "Python 3 (ipykernel)",
   "language": "python",
   "name": "python3"
  },
  "language_info": {
   "codemirror_mode": {
    "name": "ipython",
    "version": 3
   },
   "file_extension": ".py",
   "mimetype": "text/x-python",
   "name": "python",
   "nbconvert_exporter": "python",
   "pygments_lexer": "ipython3",
   "version": "3.10.5"
  }
 },
 "nbformat": 4,
 "nbformat_minor": 5
}
