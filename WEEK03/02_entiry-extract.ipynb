{
 "cells": [
  {
   "cell_type": "markdown",
   "id": "3de4bf49-d1ef-4f1c-9a88-ea70e48044c7",
   "metadata": {},
   "source": [
    "# 02_entiry-extract"
   ]
  },
  {
   "cell_type": "code",
   "execution_count": null,
   "id": "bba0f907-b28d-4552-99d6-8d0104514a4f",
   "metadata": {},
   "outputs": [],
   "source": [
    "!pip install transformers torch\n",
    "!pip install sentencepiece"
   ]
  },
  {
   "cell_type": "markdown",
   "id": "821eeac5-2977-4017-9939-9d869ff9cac1",
   "metadata": {},
   "source": [
    "# install extra library"
   ]
  },
  {
   "cell_type": "code",
   "execution_count": null,
   "id": "7adb4508-befa-4bf2-8df7-ef9fd38b3f6b",
   "metadata": {},
   "outputs": [],
   "source": [
    "from dsmlibrary.datanode import DataNode\n",
    "import json\n",
    "from tqdm.auto import tqdm\n",
    "import pandas as pd\n",
    "import re"
   ]
  },
  {
   "cell_type": "markdown",
   "id": "e6eb13eb-ddfe-4fb2-9bfd-8c101896f44e",
   "metadata": {},
   "source": [
    "## read stored data from DataPlatform"
   ]
  },
  {
   "cell_type": "code",
   "execution_count": null,
   "id": "97695935-00c2-4dbd-a134-f329b316d1b5",
   "metadata": {},
   "outputs": [],
   "source": [
    "dir_raw_id = 62\n",
    "dir_process_id = 63"
   ]
  },
  {
   "cell_type": "code",
   "execution_count": null,
   "id": "0e754c35-518a-409e-b80d-45ef7b00b208",
   "metadata": {},
   "outputs": [],
   "source": [
    "datanode = DataNode()"
   ]
  },
  {
   "cell_type": "code",
   "execution_count": null,
   "id": "44f9eb47-af5a-405a-bef1-832bebfda2e3",
   "metadata": {},
   "outputs": [],
   "source": [
    "meta, fp = datanode.get_file(datanode.get_file_id(directory_id=dir_raw_id, name='events_jewelrymagazine.json'))\n",
    "meta"
   ]
  },
  {
   "cell_type": "code",
   "execution_count": null,
   "id": "65157f74-8a0d-4839-84cf-9cf35b239943",
   "metadata": {},
   "outputs": [],
   "source": [
    "data = json.load(fp)\n",
    "data"
   ]
  },
  {
   "cell_type": "markdown",
   "id": "471e57c3-9d4f-4582-a1cd-464a65468ca5",
   "metadata": {},
   "source": [
    "# NER (NameEntitiesRegcognition)"
   ]
  },
  {
   "cell_type": "code",
   "execution_count": null,
   "id": "4297cb7e-7a1f-4ab9-9c2d-7a58b8ff4ff5",
   "metadata": {},
   "outputs": [],
   "source": [
    "from transformers import AutoTokenizer, AutoModelForTokenClassification\n",
    "from transformers import pipeline"
   ]
  },
  {
   "cell_type": "code",
   "execution_count": null,
   "id": "722f02dc-abcd-4c7f-93ea-81f4253531b5",
   "metadata": {},
   "outputs": [],
   "source": [
    "tokenizer = AutoTokenizer.from_pretrained(\"Davlan/xlm-roberta-base-ner-hrl\")\n",
    "model = AutoModelForTokenClassification.from_pretrained(\"Davlan/xlm-roberta-base-ner-hrl\")\n",
    "nlp = pipeline(\"ner\", model=model, tokenizer=tokenizer)"
   ]
  },
  {
   "cell_type": "code",
   "execution_count": null,
   "id": "4cf9927a-c260-4006-84c2-50bab84aaa68",
   "metadata": {},
   "outputs": [],
   "source": [
    "example = \"Five Crystals You Need To Bring In Wealth, Prosperity, and Success Into Your Life\"\n",
    "\n",
    "ner_results = nlp(example)\n",
    "print(ner_results)"
   ]
  },
  {
   "cell_type": "code",
   "execution_count": null,
   "id": "f46f17b7-8e7b-4dbb-ac5f-d3c925c1dea6",
   "metadata": {},
   "outputs": [],
   "source": [
    "def post_process(preds):\n",
    "    data = []\n",
    "    for i in range(len(preds)): \n",
    "        a = preds[i]\n",
    "        text = a.get('word')\n",
    "        for j in range(i, len(preds)):\n",
    "            b = preds[j]\n",
    "            if b.get('start') == a.get('end'):\n",
    "                text += b.get('word')\n",
    "                a = b\n",
    "        data.append({\n",
    "            'type': a.get('entity'),\n",
    "            'text': text\n",
    "        })\n",
    "    tmp = []\n",
    "    for elm in data:\n",
    "        text = elm.get('text')\n",
    "        if bool(re.match(\"[ก-๛]|▁\", text)):\n",
    "            elm.update({'text': text.replace('▁', ' ')})\n",
    "            tmp.append(elm)\n",
    "    return tmp"
   ]
  },
  {
   "cell_type": "code",
   "execution_count": null,
   "id": "08fd7617-d189-42c9-b0af-c20e5e817c6e",
   "metadata": {},
   "outputs": [],
   "source": [
    "text = data[5]['Description']\n",
    "text"
   ]
  },
  {
   "cell_type": "code",
   "execution_count": null,
   "id": "183e2809-c8b9-413b-b2ca-0e4ea321cf7a",
   "metadata": {},
   "outputs": [],
   "source": [
    "output = nlp(text)\n",
    "output"
   ]
  },
  {
   "cell_type": "code",
   "execution_count": null,
   "id": "79491262-edc2-42b7-942b-8dcaf93d2abe",
   "metadata": {},
   "outputs": [],
   "source": [
    "post_process(output)"
   ]
  },
  {
   "cell_type": "markdown",
   "id": "f96e4b9b-a740-4473-99a7-1f5454b5e939",
   "metadata": {},
   "source": [
    "# Process events_jewelrymagazine to spo"
   ]
  },
  {
   "cell_type": "code",
   "execution_count": null,
   "id": "0645efae-949c-4372-96fc-04f9a22d2e2d",
   "metadata": {},
   "outputs": [],
   "source": [
    "spo = []\n",
    "for events_jewelrymagazine in tqdm(data):\n",
    "    Title = events_jewelrymagazine.get('Title') \n",
    "    if Title == None:\n",
    "        continue\n",
    "    ner = nlp(Title)\n",
    "    processed = post_process(ner)\n",
    "    for kw in processed:\n",
    "        spo.append({\n",
    "            'Title': events_jewelrymagazine.get('Title', \"\"),\n",
    "            'Publish_time': events_jewelrymagazine.get('Publish_time', \"\"),\n",
    "            'Description': events_jewelrymagazine.get('Description', \"\"),\n",
    "            'Link': events_jewelrymagazine.get('Link', \"\")\n",
    "        })"
   ]
  },
  {
   "cell_type": "code",
   "execution_count": null,
   "id": "215a9c1a-5c39-4a6c-b747-66c474c03206",
   "metadata": {},
   "outputs": [],
   "source": [
    "df = pd.DataFrame(spo)\n",
    "df['Title'] = df['Title'].apply(lambda x: x[2:])\n",
    "df"
   ]
  },
  {
   "cell_type": "code",
   "execution_count": null,
   "id": "67b2afc8-6f92-4780-8968-3abc4deac6cc",
   "metadata": {},
   "outputs": [],
   "source": [
    "datanode.write(df=df, directory=dir_process_id, name=\"spo\", profiling=True, lineage=[datanode.get_file_id(directory_id=dir_raw_id, \n",
    "                                                                                                          name='events_jewelrymagazine.json')])"
   ]
  },
  {
   "cell_type": "code",
   "execution_count": null,
   "id": "8e5a053c-9451-48d0-ad60-dc3cb3f1421e",
   "metadata": {},
   "outputs": [],
   "source": []
  }
 ],
 "metadata": {
  "kernelspec": {
   "display_name": "Python 3 (ipykernel)",
   "language": "python",
   "name": "python3"
  },
  "language_info": {
   "codemirror_mode": {
    "name": "ipython",
    "version": 3
   },
   "file_extension": ".py",
   "mimetype": "text/x-python",
   "name": "python",
   "nbconvert_exporter": "python",
   "pygments_lexer": "ipython3",
   "version": "3.10.5"
  }
 },
 "nbformat": 4,
 "nbformat_minor": 5
}
