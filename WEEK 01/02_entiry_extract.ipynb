{
  "cells": [
    {
      "cell_type": "markdown",
      "source": [
        "# 02_entiry-extract"
      ],
      "metadata": {
        "id": "_XuLSreM4Kpc"
      },
      "id": "_XuLSreM4Kpc"
    },
    {
      "cell_type": "markdown",
      "source": [
        "##install extra library"
      ],
      "metadata": {
        "id": "vayhwfxN4US_"
      },
      "id": "vayhwfxN4US_"
    },
    {
      "cell_type": "code",
      "execution_count": null,
      "id": "27bd2d07-fd6a-400e-ae68-0cefe6e1e9aa",
      "metadata": {
        "id": "27bd2d07-fd6a-400e-ae68-0cefe6e1e9aa"
      },
      "outputs": [],
      "source": [
        "!pip install transformers torch\n",
        "!pip install sentencepiece"
      ]
    },
    {
      "cell_type": "markdown",
      "source": [
        "##read stored data from DataPlatform"
      ],
      "metadata": {
        "id": "lW46w9qr4bKk"
      },
      "id": "lW46w9qr4bKk"
    },
    {
      "cell_type": "code",
      "execution_count": null,
      "id": "1e14cab5-91d2-4d4d-a59c-c0ed03eac030",
      "metadata": {
        "id": "1e14cab5-91d2-4d4d-a59c-c0ed03eac030"
      },
      "outputs": [],
      "source": [
        "from dsmlibrary.datanode import DataNode\n",
        "import json\n",
        "from tqdm.auto import tqdm\n",
        "import pandas as pd\n",
        "import re"
      ]
    },
    {
      "cell_type": "code",
      "execution_count": null,
      "id": "8d1d8613-3bc6-490b-b4c1-aa6f91f8ceea",
      "metadata": {
        "id": "8d1d8613-3bc6-490b-b4c1-aa6f91f8ceea"
      },
      "outputs": [],
      "source": [
        "dir_raw_id = 62\n",
        "dir_process_id = 63"
      ]
    },
    {
      "cell_type": "code",
      "execution_count": null,
      "id": "a018c573-79fc-43b0-a9ca-6b017b28ac50",
      "metadata": {
        "id": "a018c573-79fc-43b0-a9ca-6b017b28ac50"
      },
      "outputs": [],
      "source": [
        "datanode = DataNode()"
      ]
    },
    {
      "cell_type": "code",
      "execution_count": null,
      "id": "1ccfd9a4-8ceb-4b02-b36e-1d0679b0a8a4",
      "metadata": {
        "id": "1ccfd9a4-8ceb-4b02-b36e-1d0679b0a8a4"
      },
      "outputs": [],
      "source": [
        "meta, fp = datanode.get_file(datanode.get_file_id(directory_id=dir_raw_id, name='eventseye.json'))\n",
        "meta"
      ]
    },
    {
      "cell_type": "code",
      "execution_count": null,
      "id": "16ae0ebf-97ec-4a55-80cd-808bf53ea9a2",
      "metadata": {
        "id": "16ae0ebf-97ec-4a55-80cd-808bf53ea9a2"
      },
      "outputs": [],
      "source": [
        "data = json.load(fp)\n",
        "data"
      ]
    },
    {
      "cell_type": "markdown",
      "source": [
        "##NER (NameEntitiesRegcognition)"
      ],
      "metadata": {
        "id": "9_XoAWFa4ia9"
      },
      "id": "9_XoAWFa4ia9"
    },
    {
      "cell_type": "code",
      "execution_count": null,
      "id": "ccda2fc6-5fd0-47b3-9bcc-21288472dcb9",
      "metadata": {
        "id": "ccda2fc6-5fd0-47b3-9bcc-21288472dcb9"
      },
      "outputs": [],
      "source": [
        "from transformers import AutoTokenizer, AutoModelForTokenClassification\n",
        "from transformers import pipeline"
      ]
    },
    {
      "cell_type": "code",
      "execution_count": null,
      "id": "e3aa0dac-8dba-4238-8713-afc45d5414be",
      "metadata": {
        "id": "e3aa0dac-8dba-4238-8713-afc45d5414be"
      },
      "outputs": [],
      "source": [
        "tokenizer = AutoTokenizer.from_pretrained(\"Davlan/xlm-roberta-base-ner-hrl\")\n",
        "model = AutoModelForTokenClassification.from_pretrained(\"Davlan/xlm-roberta-base-ner-hrl\")\n",
        "nlp = pipeline(\"ner\", model=model, tokenizer=tokenizer)"
      ]
    },
    {
      "cell_type": "code",
      "execution_count": null,
      "id": "c98dd0dc-c80e-4ec8-aba6-d69ee2695a5f",
      "metadata": {
        "id": "c98dd0dc-c80e-4ec8-aba6-d69ee2695a5f"
      },
      "outputs": [],
      "source": [
        "example = \"LUXURY BRIDAL EXPO GEORGIOS BANQUETS ORLAND PARK\"\n",
        "\n",
        "ner_results = nlp(example)\n",
        "print(ner_results)"
      ]
    },
    {
      "cell_type": "code",
      "execution_count": null,
      "id": "a9589d96-d082-4ad7-9c2b-aa867807aa10",
      "metadata": {
        "id": "a9589d96-d082-4ad7-9c2b-aa867807aa10"
      },
      "outputs": [],
      "source": [
        "def post_process(preds):\n",
        "    data = []\n",
        "    for i in range(len(preds)): \n",
        "        a = preds[i]\n",
        "        text = a.get('word')\n",
        "        for j in range(i, len(preds)):\n",
        "            b = preds[j]\n",
        "            if b.get('start') == a.get('end'):\n",
        "                text += b.get('word')\n",
        "                a = b\n",
        "        data.append({\n",
        "            'type': a.get('entity'),\n",
        "            'text': text\n",
        "        })\n",
        "    tmp = []\n",
        "    for elm in data:\n",
        "        text = elm.get('text')\n",
        "        if bool(re.match(\"[ก-๛]|▁\", text)):\n",
        "            elm.update({'text': text.replace('▁', ' ')})\n",
        "            tmp.append(elm)\n",
        "    return tmp"
      ]
    },
    {
      "cell_type": "code",
      "execution_count": null,
      "id": "12068554-de13-48d3-8698-37bdbb239f17",
      "metadata": {
        "id": "12068554-de13-48d3-8698-37bdbb239f17"
      },
      "outputs": [],
      "source": [
        "text = data[5]['Country']\n",
        "text"
      ]
    },
    {
      "cell_type": "code",
      "execution_count": null,
      "id": "c52cd134-5ef7-49ce-8df5-0e6ef6789c17",
      "metadata": {
        "id": "c52cd134-5ef7-49ce-8df5-0e6ef6789c17"
      },
      "outputs": [],
      "source": [
        "output = nlp(text)\n",
        "output"
      ]
    },
    {
      "cell_type": "code",
      "execution_count": null,
      "id": "708bbeb4-7661-43ef-be71-54103ddde1a5",
      "metadata": {
        "id": "708bbeb4-7661-43ef-be71-54103ddde1a5"
      },
      "outputs": [],
      "source": [
        "post_process(output)"
      ]
    },
    {
      "cell_type": "markdown",
      "source": [
        "##Process eventseye to spo"
      ],
      "metadata": {
        "id": "lr2hqOK14pA6"
      },
      "id": "lr2hqOK14pA6"
    },
    {
      "cell_type": "code",
      "execution_count": null,
      "id": "719544cc-559d-40ee-952d-d2fd7960bfb1",
      "metadata": {
        "id": "719544cc-559d-40ee-952d-d2fd7960bfb1"
      },
      "outputs": [],
      "source": [
        "spo = []\n",
        "for eventseye in tqdm(data):\n",
        "    Exhibition_Name = eventseye.get('Exhibition_Name') \n",
        "    if Exhibition_Name == None:\n",
        "        continue\n",
        "    ner = nlp(Exhibition_Name)\n",
        "    processed = post_process(ner)\n",
        "    for kw in processed:\n",
        "        spo.append({\n",
        "            'Exhibition_Name': eventseye.get('Exhibition_Name', \"\"),\n",
        "            'Describe': eventseye.get('Describe', \"\"),\n",
        "            'Country': eventseye.get('Country', \"\"),\n",
        "            'City': eventseye.get('City', \"\"),\n",
        "            'Place': eventseye.get('Place', \"\"),\n",
        "        })"
      ]
    },
    {
      "cell_type": "code",
      "execution_count": null,
      "id": "9b2ca9b9-ebf0-44f0-b468-393e6cb57285",
      "metadata": {
        "id": "9b2ca9b9-ebf0-44f0-b468-393e6cb57285"
      },
      "outputs": [],
      "source": [
        "df = pd.DataFrame(spo)\n",
        "df['Exhibition_Name'] = df['Exhibition_Name'].apply(lambda x: x[2:])\n",
        "df"
      ]
    },
    {
      "cell_type": "code",
      "execution_count": null,
      "id": "3e3a6a60-3989-42dd-a9aa-b002a5e96352",
      "metadata": {
        "id": "3e3a6a60-3989-42dd-a9aa-b002a5e96352"
      },
      "outputs": [],
      "source": [
        "#write DataNode to DataPlatform"
      ]
    },
    {
      "cell_type": "code",
      "execution_count": null,
      "id": "cff3d69f-fbd4-433b-bd26-119e670828eb",
      "metadata": {
        "id": "cff3d69f-fbd4-433b-bd26-119e670828eb"
      },
      "outputs": [],
      "source": [
        "datanode.write(df=df, directory=dir_process_id, name=\"spo\", profiling=True, lineage=[datanode.get_file_id(directory_id=dir_raw_id, \n",
        "                                                                                                          name='eventseye.json')])"
      ]
    }
  ],
  "metadata": {
    "kernelspec": {
      "display_name": "Python 3 (ipykernel)",
      "language": "python",
      "name": "python3"
    },
    "language_info": {
      "codemirror_mode": {
        "name": "ipython",
        "version": 3
      },
      "file_extension": ".py",
      "mimetype": "text/x-python",
      "name": "python",
      "nbconvert_exporter": "python",
      "pygments_lexer": "ipython3",
      "version": "3.10.5"
    },
    "colab": {
      "provenance": [],
      "collapsed_sections": []
    }
  },
  "nbformat": 4,
  "nbformat_minor": 5
}