{
  "cells": [
    {
      "cell_type": "markdown",
      "id": "a2d6f397-a8bd-4a18-8f8d-e6408f73742d",
      "metadata": {
        "id": "a2d6f397-a8bd-4a18-8f8d-e6408f73742d"
      },
      "source": [
        "# 01_scrap"
      ]
    },
    {
      "cell_type": "markdown",
      "id": "15b3331a-2598-46fe-8ade-32911b03b72b",
      "metadata": {
        "id": "15b3331a-2598-46fe-8ade-32911b03b72b"
      },
      "source": [
        "- scrapping data from eventseye.com and upload to DataPlatform"
      ]
    },
    {
      "cell_type": "markdown",
      "id": "45509eda-db86-4f48-82e4-86e061beec9b",
      "metadata": {
        "id": "45509eda-db86-4f48-82e4-86e061beec9b"
      },
      "source": [
        "# Getting data from eventseye.com"
      ]
    },
    {
      "cell_type": "code",
      "execution_count": null,
      "id": "18506b89-62ca-462f-ad77-2a5d2f1cb1ce",
      "metadata": {
        "id": "18506b89-62ca-462f-ad77-2a5d2f1cb1ce"
      },
      "outputs": [],
      "source": [
        "pip install scrapy"
      ]
    },
    {
      "cell_type": "markdown",
      "id": "0ac67328-4ad0-4a99-b670-03153f20a626",
      "metadata": {
        "id": "0ac67328-4ad0-4a99-b670-03153f20a626"
      },
      "source": [
        "# Import Library"
      ]
    },
    {
      "cell_type": "code",
      "execution_count": null,
      "id": "ec2ec8ed-89b0-4ada-b5e8-6ffa13e36812",
      "metadata": {
        "id": "ec2ec8ed-89b0-4ada-b5e8-6ffa13e36812"
      },
      "outputs": [],
      "source": [
        "import scrapy\n",
        "import pandas as pd\n",
        "import json\n",
        "import csv\n",
        "\n",
        "\n",
        "from scrapy.crawler import CrawlerProcess\n",
        "from scrapy.crawler import CrawlerRunner"
      ]
    },
    {
      "cell_type": "code",
      "execution_count": null,
      "id": "94eb3251-a1fb-475d-abfe-ff590930779d",
      "metadata": {
        "id": "94eb3251-a1fb-475d-abfe-ff590930779d"
      },
      "outputs": [],
      "source": [
        "class Eventseye(scrapy.Spider):\n",
        "    name = \"eventseye\"\n",
        "    start_urls = [\n",
        "        'https://www.eventseye.com/fairs/st1_trade-shows_jewelry.html',\n",
        "        'https://www.eventseye.com/fairs/st1_trade-shows_jewelry_1.html',\n",
        "        'https://www.eventseye.com/fairs/st1_trade-shows_jewelry_2.html',\n",
        "        'https://www.eventseye.com/fairs/st1_trade-shows_jewelry_3.html'\n",
        "    ]\n",
        "    custom_settings = {\n",
        "        'FEEDS': { 'eventseye3.json': { 'format': 'json',}}\n",
        "        }\n",
        "        \n",
        "    def parse(self, response):\n",
        "        for event in response.css('tr'):\n",
        "            yield {\n",
        "                'Exhibition_Name': event.css('b::text').get(),\n",
        "                'Describe': event.css('i::text').get(),\n",
        "                'Venue': event.css('a.city::text').get(),\n",
        "                'Place': event.css('a.place::text').get(),\n",
        "\n",
        "            }"
      ]
    },
    {
      "cell_type": "code",
      "execution_count": null,
      "id": "bb64766f-f192-4a4f-b557-229b7bb57945",
      "metadata": {
        "id": "bb64766f-f192-4a4f-b557-229b7bb57945"
      },
      "outputs": [],
      "source": [
        "process = CrawlerProcess()\n",
        "process.crawl(Eventseye)\n",
        "process.start()"
      ]
    },
    {
      "cell_type": "markdown",
      "id": "1e0b4734-d0a9-485a-949f-5a3105522218",
      "metadata": {
        "id": "1e0b4734-d0a9-485a-949f-5a3105522218"
      },
      "source": [
        "- Clean Data"
      ]
    },
    {
      "cell_type": "code",
      "execution_count": null,
      "id": "39766154-6de4-4ec0-8f4e-4c58ae736e91",
      "metadata": {
        "id": "39766154-6de4-4ec0-8f4e-4c58ae736e91"
      },
      "outputs": [],
      "source": [
        "df=pd.read_json('eventseye3.json')\n",
        "df"
      ]
    },
    {
      "cell_type": "code",
      "execution_count": null,
      "id": "7347c148-d90f-4d82-8b60-1fefbf83dd96",
      "metadata": {
        "id": "7347c148-d90f-4d82-8b60-1fefbf83dd96"
      },
      "outputs": [],
      "source": [
        "df.isnull()"
      ]
    },
    {
      "cell_type": "code",
      "execution_count": null,
      "id": "b5cc17d0-88f8-4785-9166-a2f6b42156fb",
      "metadata": {
        "id": "b5cc17d0-88f8-4785-9166-a2f6b42156fb"
      },
      "outputs": [],
      "source": [
        "df = df.dropna()\n",
        "df.isnull().sum()"
      ]
    },
    {
      "cell_type": "code",
      "execution_count": null,
      "id": "742676ca-357d-4564-a619-2eb366ca063b",
      "metadata": {
        "id": "742676ca-357d-4564-a619-2eb366ca063b"
      },
      "outputs": [],
      "source": [
        "def split_venue(data):\n",
        "  data = data.split(\"(\")\n",
        "  return data"
      ]
    },
    {
      "cell_type": "code",
      "execution_count": null,
      "id": "0205e621-d456-4be1-a6bd-2a05aca92681",
      "metadata": {
        "id": "0205e621-d456-4be1-a6bd-2a05aca92681"
      },
      "outputs": [],
      "source": [
        "df[['Country', 'Venue_City',]] = list(map(split_venue, df['Venue']))\n",
        "df['Country'] = df['Country'].astype(str)\n",
        "df['Venue_City'] = df['Venue_City'].astype(str)"
      ]
    },
    {
      "cell_type": "code",
      "execution_count": null,
      "id": "5b4d1758-3fa7-410f-b2d8-643515214a8e",
      "metadata": {
        "id": "5b4d1758-3fa7-410f-b2d8-643515214a8e"
      },
      "outputs": [],
      "source": [
        "df=df.drop(columns=['Venue'])"
      ]
    },
    {
      "cell_type": "code",
      "execution_count": null,
      "id": "5f9f7562-f3f4-49de-92bd-e2f086c38711",
      "metadata": {
        "id": "5f9f7562-f3f4-49de-92bd-e2f086c38711"
      },
      "outputs": [],
      "source": [
        "df"
      ]
    },
    {
      "cell_type": "code",
      "execution_count": null,
      "id": "4c0aa248-175c-4eb9-b0f3-4aa9f2f903fe",
      "metadata": {
        "id": "4c0aa248-175c-4eb9-b0f3-4aa9f2f903fe"
      },
      "outputs": [],
      "source": [
        "def split_city(data):\n",
        "  data = data.split(\")\")\n",
        "  return data"
      ]
    },
    {
      "cell_type": "code",
      "execution_count": null,
      "id": "47fa3a12-2ecd-4e87-9c42-b96aa37ce682",
      "metadata": {
        "id": "47fa3a12-2ecd-4e87-9c42-b96aa37ce682"
      },
      "outputs": [],
      "source": [
        "df[['City','Pass']] = list(map(split_city, df['Venue_City']))\n",
        "df['City'] = df['City'].astype(str)\n",
        "\n",
        "df=df.drop(columns=['Venue_City','Pass'])"
      ]
    },
    {
      "cell_type": "code",
      "execution_count": null,
      "id": "d626477a-a73d-4a98-bb0f-fcada87d0f05",
      "metadata": {
        "id": "d626477a-a73d-4a98-bb0f-fcada87d0f05"
      },
      "outputs": [],
      "source": [
        "df"
      ]
    },
    {
      "cell_type": "code",
      "execution_count": null,
      "id": "1c7c4da9-182f-47d3-b4a3-bca9434b0320",
      "metadata": {
        "id": "1c7c4da9-182f-47d3-b4a3-bca9434b0320"
      },
      "outputs": [],
      "source": [
        "eventseye = df"
      ]
    },
    {
      "cell_type": "code",
      "execution_count": null,
      "id": "81bcfa28-3e43-4777-8f8f-78d0b0495e6a",
      "metadata": {
        "id": "81bcfa28-3e43-4777-8f8f-78d0b0495e6a"
      },
      "outputs": [],
      "source": [
        "print(f\"Total events : {len(eventseye)}\")"
      ]
    },
    {
      "cell_type": "code",
      "execution_count": null,
      "id": "3a72ea58-3ff3-4067-a3e9-16cfe8263050",
      "metadata": {
        "id": "3a72ea58-3ff3-4067-a3e9-16cfe8263050"
      },
      "outputs": [],
      "source": [
        "eventseye = eventseye.to_dict('records')"
      ]
    },
    {
      "cell_type": "markdown",
      "id": "41d58be3-5dac-4ad3-9b0a-72724542e3d6",
      "metadata": {
        "id": "41d58be3-5dac-4ad3-9b0a-72724542e3d6"
      },
      "source": [
        "- dump data to json file"
      ]
    },
    {
      "cell_type": "code",
      "execution_count": null,
      "id": "20de7010-c121-48e0-8cb9-90dfad82a72f",
      "metadata": {
        "id": "20de7010-c121-48e0-8cb9-90dfad82a72f"
      },
      "outputs": [],
      "source": [
        "with open('eventseye.json', 'w') as f:\n",
        "    json.dump(eventseye, f)"
      ]
    },
    {
      "cell_type": "markdown",
      "id": "954975ac-fc1b-4e7a-8fe4-d7ade937d786",
      "metadata": {
        "id": "954975ac-fc1b-4e7a-8fe4-d7ade937d786"
      },
      "source": [
        "# Upload data to DataPlatform"
      ]
    },
    {
      "cell_type": "code",
      "execution_count": null,
      "id": "777cf58c-5fe7-4183-9c61-fe2ebcd03dc9",
      "metadata": {
        "id": "777cf58c-5fe7-4183-9c61-fe2ebcd03dc9"
      },
      "outputs": [],
      "source": [
        "# import pandas as pd\n",
        "# df = pd.DataFrame(columns=[\"Exhibition_Name\", \"Describe\",\"Country\",\"City\", \"Place\"])"
      ]
    },
    {
      "cell_type": "code",
      "execution_count": null,
      "id": "0c798bdc-3699-4543-b62d-8a73802af065",
      "metadata": {
        "id": "0c798bdc-3699-4543-b62d-8a73802af065"
      },
      "outputs": [],
      "source": [
        "import requests\n",
        "from tqdm.auto import tqdm"
      ]
    },
    {
      "cell_type": "code",
      "execution_count": null,
      "id": "e0fbbc51-1964-4740-a440-c4054ec18053",
      "metadata": {
        "id": "e0fbbc51-1964-4740-a440-c4054ec18053"
      },
      "outputs": [],
      "source": [
        "from dsmlibrary.datanode import DataNode"
      ]
    },
    {
      "cell_type": "code",
      "execution_count": null,
      "id": "1b360461-39f0-499d-93eb-81d3d82f0811",
      "metadata": {
        "id": "1b360461-39f0-499d-93eb-81d3d82f0811"
      },
      "outputs": [],
      "source": [
        "dir_raw_id = 62"
      ]
    },
    {
      "cell_type": "code",
      "execution_count": null,
      "id": "acd51113-3496-465f-a24e-311c1e89d0b7",
      "metadata": {
        "id": "acd51113-3496-465f-a24e-311c1e89d0b7"
      },
      "outputs": [],
      "source": [
        "datanode = DataNode()"
      ]
    },
    {
      "cell_type": "code",
      "execution_count": null,
      "id": "92e6ef89-c4af-45ca-b57b-9c733484a165",
      "metadata": {
        "id": "92e6ef89-c4af-45ca-b57b-9c733484a165"
      },
      "outputs": [],
      "source": [
        "datanode.upload_file(directory_id=dir_raw_id, file_path='eventseye.json')"
      ]
    }
  ],
  "metadata": {
    "kernelspec": {
      "display_name": "Python 3 (ipykernel)",
      "language": "python",
      "name": "python3"
    },
    "language_info": {
      "codemirror_mode": {
        "name": "ipython",
        "version": 3
      },
      "file_extension": ".py",
      "mimetype": "text/x-python",
      "name": "python",
      "nbconvert_exporter": "python",
      "pygments_lexer": "ipython3",
      "version": "3.10.5"
    },
    "colab": {
      "provenance": []
    }
  },
  "nbformat": 4,
  "nbformat_minor": 5
}