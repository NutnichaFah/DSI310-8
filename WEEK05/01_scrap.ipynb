{
 "cells": [
  {
   "cell_type": "markdown",
   "id": "864d9fba-df6f-48d4-a80d-7c8600d87784",
   "metadata": {},
   "source": [
    "# 01_scrap"
   ]
  },
  {
   "cell_type": "markdown",
   "id": "f9b81591-f558-4c7d-9b40-3425f8306c85",
   "metadata": {},
   "source": [
    "- scrapping data from 10times.com and upload to DataPlatform"
   ]
  },
  {
   "cell_type": "code",
   "execution_count": null,
   "id": "70006e86-4bdd-45c4-8cb9-053f5c7d38ad",
   "metadata": {},
   "outputs": [],
   "source": [
    "pip install bs4"
   ]
  },
  {
   "cell_type": "code",
   "execution_count": null,
   "id": "eb6e8be1-594e-4b6e-8360-65eb03da742e",
   "metadata": {},
   "outputs": [],
   "source": [
    "pip install requests"
   ]
  },
  {
   "cell_type": "markdown",
   "id": "9bb06bf2-448a-4f3a-bc0c-bd89a1160cbd",
   "metadata": {
    "tags": []
   },
   "source": [
    "## Import Library"
   ]
  },
  {
   "cell_type": "code",
   "execution_count": 1,
   "id": "ab3ab154-7b3c-4f48-892b-0b777893a416",
   "metadata": {},
   "outputs": [],
   "source": [
    "import pandas as pd\n",
    "import bs4\n",
    "import requests\n",
    "import json\n",
    "\n",
    "from bs4 import BeautifulSoup"
   ]
  },
  {
   "cell_type": "code",
   "execution_count": 2,
   "id": "fca89fb5-d99f-483b-a10c-80d17dfd3fa8",
   "metadata": {},
   "outputs": [],
   "source": [
    "events_name = []\n",
    "date = []\n",
    "country = []\n",
    "category = []\n",
    "rating = []\n",
    "source_url = []"
   ]
  },
  {
   "cell_type": "code",
   "execution_count": 3,
   "id": "a0bfce3f-d8b4-4f6b-9c63-645ea2a778ce",
   "metadata": {},
   "outputs": [],
   "source": [
    "data = requests.get('https://10times.com/top100/gems-jewelry')\n",
    "soup = bs4.BeautifulSoup(data.text,\"html.parser\")\n",
    "\n",
    "for f in soup.find_all('tr',class_ =\"align-middle top100-event\"):\n",
    "    \n",
    "    #Event_Name\n",
    "    events_name.append(f.find('span', class_ = \"line-2\").text.strip())\n",
    "    \n",
    "    #Date\n",
    "    date.append(f.find('td', class_ = \"small date\").text.strip())\n",
    "    \n",
    "    #Country\n",
    "    country.append(f.find('a', class_ = 'text-decoration-none xn').text.strip())\n",
    "    \n",
    "    #Category\n",
    "    category.append(f.find('a', class_=\"d-inline-block small text-decoration-none px-2 me-2 mb-1 rounded-3 xn\").text.strip())\n",
    "    \n",
    "    #Link URL\n",
    "    source_url.append(f.find('div', class_ =\"name w-100\").find('a')['href'])"
   ]
  },
  {
   "cell_type": "code",
   "execution_count": 4,
   "id": "eb1b14b1-c76d-4e6d-91b7-57a77407df1d",
   "metadata": {},
   "outputs": [],
   "source": [
    "#Rating\n",
    "for rat in soup.find_all('a',class_ =\"badge fw-500 text-decoration-none\"):\n",
    "    r = rat.text\n",
    "    ra = r.strip()\n",
    "    rating.append(ra)"
   ]
  },
  {
   "cell_type": "code",
   "execution_count": 5,
   "id": "fd3bb266-5f5a-43da-9856-7de27aedd4be",
   "metadata": {},
   "outputs": [],
   "source": [
    "#DataFrame\n",
    "df = pd.DataFrame([events_name, date, country, category, rating ,source_url]).transpose()"
   ]
  },
  {
   "cell_type": "code",
   "execution_count": 6,
   "id": "e87cfcda-2bdd-400c-a9a2-2cb313128f72",
   "metadata": {},
   "outputs": [],
   "source": [
    "df.columns = ['Events_name', 'Date','Country','Category', 'Rating', 'URL']"
   ]
  },
  {
   "cell_type": "code",
   "execution_count": null,
   "id": "548e05dd-e5bd-43f0-9765-8cc4d87a8edd",
   "metadata": {},
   "outputs": [],
   "source": [
    "df.set_index('Events_name')"
   ]
  },
  {
   "cell_type": "code",
   "execution_count": 8,
   "id": "ae8dd861-c716-4bb5-b34a-e908f27446a7",
   "metadata": {},
   "outputs": [
    {
     "data": {
      "text/html": [
       "<div>\n",
       "<style scoped>\n",
       "    .dataframe tbody tr th:only-of-type {\n",
       "        vertical-align: middle;\n",
       "    }\n",
       "\n",
       "    .dataframe tbody tr th {\n",
       "        vertical-align: top;\n",
       "    }\n",
       "\n",
       "    .dataframe thead th {\n",
       "        text-align: right;\n",
       "    }\n",
       "</style>\n",
       "<table border=\"1\" class=\"dataframe\">\n",
       "  <thead>\n",
       "    <tr style=\"text-align: right;\">\n",
       "      <th></th>\n",
       "      <th>Events_name</th>\n",
       "      <th>Date</th>\n",
       "      <th>Country</th>\n",
       "      <th>Category</th>\n",
       "      <th>Rating</th>\n",
       "      <th>URL</th>\n",
       "    </tr>\n",
       "  </thead>\n",
       "  <tbody>\n",
       "    <tr>\n",
       "      <th>0</th>\n",
       "      <td>ASD Market Week</td>\n",
       "      <td>26 Feb - 01 Mar 2023</td>\n",
       "      <td>USA</td>\n",
       "      <td>Apparel &amp; Clothing</td>\n",
       "      <td>4.3</td>\n",
       "      <td>https://10times.com/asd-value-variety</td>\n",
       "    </tr>\n",
       "    <tr>\n",
       "      <th>1</th>\n",
       "      <td>HKTDC Hong Kong International Jewellery Show</td>\n",
       "      <td>01 - 05 Mar 2023</td>\n",
       "      <td>Hong Kong</td>\n",
       "      <td>Arts &amp; Crafts</td>\n",
       "      <td>4.4</td>\n",
       "      <td>https://10times.com/hong-kong-international-je...</td>\n",
       "    </tr>\n",
       "    <tr>\n",
       "      <th>2</th>\n",
       "      <td>The Gem Expo</td>\n",
       "      <td>10 - 12 Mar 2023</td>\n",
       "      <td>Canada</td>\n",
       "      <td>Arts &amp; Crafts</td>\n",
       "      <td>4.0</td>\n",
       "      <td>https://10times.com/the-gem-expo-toronto</td>\n",
       "    </tr>\n",
       "    <tr>\n",
       "      <th>3</th>\n",
       "      <td>Jewellery &amp; Gem WORLD Hong Kong</td>\n",
       "      <td>18 - 24 Sep 2023</td>\n",
       "      <td>Hong Kong</td>\n",
       "      <td>Fashion &amp; Beauty</td>\n",
       "      <td>3.8</td>\n",
       "      <td>https://10times.com/hongkong-jewellery-gemfair</td>\n",
       "    </tr>\n",
       "    <tr>\n",
       "      <th>4</th>\n",
       "      <td>International Gifts, Handicrafts, Watches &amp; Ho...</td>\n",
       "      <td>26 - 29 Apr 2023</td>\n",
       "      <td>China</td>\n",
       "      <td>Arts &amp; Crafts</td>\n",
       "      <td>4.0</td>\n",
       "      <td>https://10times.com/gifts-handicrafts-watches-...</td>\n",
       "    </tr>\n",
       "    <tr>\n",
       "      <th>...</th>\n",
       "      <td>...</td>\n",
       "      <td>...</td>\n",
       "      <td>...</td>\n",
       "      <td>...</td>\n",
       "      <td>...</td>\n",
       "      <td>...</td>\n",
       "    </tr>\n",
       "    <tr>\n",
       "      <th>95</th>\n",
       "      <td>Edmonton Gem &amp; Mineral Show</td>\n",
       "      <td>22 - 24 Apr 2022</td>\n",
       "      <td>Canada</td>\n",
       "      <td>Arts &amp; Crafts</td>\n",
       "      <td>None</td>\n",
       "      <td>https://10times.com/edmonton-gem-mineral</td>\n",
       "    </tr>\n",
       "    <tr>\n",
       "      <th>96</th>\n",
       "      <td>FUTURMODA</td>\n",
       "      <td>08 - 09 Mar 2023</td>\n",
       "      <td>Spain</td>\n",
       "      <td>Apparel &amp; Clothing</td>\n",
       "      <td>None</td>\n",
       "      <td>https://10times.com/futurmoda</td>\n",
       "    </tr>\n",
       "    <tr>\n",
       "      <th>97</th>\n",
       "      <td>Eastside Culture Crawl</td>\n",
       "      <td>17 - 20 Nov 2022</td>\n",
       "      <td>Canada</td>\n",
       "      <td>Arts &amp; Crafts</td>\n",
       "      <td>None</td>\n",
       "      <td>https://10times.com/eastside-culture-crawl</td>\n",
       "    </tr>\n",
       "    <tr>\n",
       "      <th>98</th>\n",
       "      <td>Gem Mineral Jewelry and Bead Show Laughlin</td>\n",
       "      <td>13 - 22 Jan 2023</td>\n",
       "      <td>USA</td>\n",
       "      <td>Fashion &amp; Beauty</td>\n",
       "      <td>None</td>\n",
       "      <td>https://10times.com/gem-mineral-jewelry</td>\n",
       "    </tr>\n",
       "    <tr>\n",
       "      <th>99</th>\n",
       "      <td>Thailand Gems &amp; Jewelry Fair</td>\n",
       "      <td>22 - 26 Feb 2023</td>\n",
       "      <td>Thailand</td>\n",
       "      <td>Fashion &amp; Beauty</td>\n",
       "      <td>None</td>\n",
       "      <td>https://10times.com/e1r2-3s5k-0prs</td>\n",
       "    </tr>\n",
       "  </tbody>\n",
       "</table>\n",
       "<p>100 rows × 6 columns</p>\n",
       "</div>"
      ],
      "text/plain": [
       "                                          Events_name                  Date  \\\n",
       "0                                     ASD Market Week  26 Feb - 01 Mar 2023   \n",
       "1        HKTDC Hong Kong International Jewellery Show      01 - 05 Mar 2023   \n",
       "2                                        The Gem Expo      10 - 12 Mar 2023   \n",
       "3                     Jewellery & Gem WORLD Hong Kong      18 - 24 Sep 2023   \n",
       "4   International Gifts, Handicrafts, Watches & Ho...      26 - 29 Apr 2023   \n",
       "..                                                ...                   ...   \n",
       "95                        Edmonton Gem & Mineral Show      22 - 24 Apr 2022   \n",
       "96                                          FUTURMODA      08 - 09 Mar 2023   \n",
       "97                             Eastside Culture Crawl      17 - 20 Nov 2022   \n",
       "98         Gem Mineral Jewelry and Bead Show Laughlin      13 - 22 Jan 2023   \n",
       "99                       Thailand Gems & Jewelry Fair      22 - 26 Feb 2023   \n",
       "\n",
       "      Country            Category Rating  \\\n",
       "0         USA  Apparel & Clothing    4.3   \n",
       "1   Hong Kong       Arts & Crafts    4.4   \n",
       "2      Canada       Arts & Crafts    4.0   \n",
       "3   Hong Kong    Fashion & Beauty    3.8   \n",
       "4       China       Arts & Crafts    4.0   \n",
       "..        ...                 ...    ...   \n",
       "95     Canada       Arts & Crafts   None   \n",
       "96      Spain  Apparel & Clothing   None   \n",
       "97     Canada       Arts & Crafts   None   \n",
       "98        USA    Fashion & Beauty   None   \n",
       "99   Thailand    Fashion & Beauty   None   \n",
       "\n",
       "                                                  URL  \n",
       "0               https://10times.com/asd-value-variety  \n",
       "1   https://10times.com/hong-kong-international-je...  \n",
       "2            https://10times.com/the-gem-expo-toronto  \n",
       "3      https://10times.com/hongkong-jewellery-gemfair  \n",
       "4   https://10times.com/gifts-handicrafts-watches-...  \n",
       "..                                                ...  \n",
       "95           https://10times.com/edmonton-gem-mineral  \n",
       "96                      https://10times.com/futurmoda  \n",
       "97         https://10times.com/eastside-culture-crawl  \n",
       "98            https://10times.com/gem-mineral-jewelry  \n",
       "99                 https://10times.com/e1r2-3s5k-0prs  \n",
       "\n",
       "[100 rows x 6 columns]"
      ]
     },
     "execution_count": 8,
     "metadata": {},
     "output_type": "execute_result"
    }
   ],
   "source": [
    "df"
   ]
  },
  {
   "cell_type": "markdown",
   "id": "0f3f1bb9-dcee-4a4a-9a90-fbae84d8c919",
   "metadata": {},
   "source": [
    "- dump data to json file"
   ]
  },
  {
   "cell_type": "code",
   "execution_count": 9,
   "id": "e16a541d-a827-4d76-a8fd-8886091d33e8",
   "metadata": {},
   "outputs": [],
   "source": [
    "df = df.to_dict('records')"
   ]
  },
  {
   "cell_type": "code",
   "execution_count": 10,
   "id": "b8596a6e-fb18-455d-89bf-383b8cdd1297",
   "metadata": {},
   "outputs": [
    {
     "name": "stdout",
     "output_type": "stream",
     "text": [
      "Total events : 100\n"
     ]
    }
   ],
   "source": [
    "print(f'Total events : {len(df)}')"
   ]
  },
  {
   "cell_type": "code",
   "execution_count": 11,
   "id": "2db8e49f-b7da-4f56-8523-45fe00f5c99f",
   "metadata": {},
   "outputs": [],
   "source": [
    "with open('jewelry_events_top100.json', 'w', encoding='utf8') as f:\n",
    "    json.dump(df, f)"
   ]
  },
  {
   "cell_type": "markdown",
   "id": "827ed7ec-348f-4d5a-a912-5d867d606ea5",
   "metadata": {},
   "source": [
    "## Upload data to DataPlatform"
   ]
  },
  {
   "cell_type": "code",
   "execution_count": null,
   "id": "262be9ea-92f5-4c06-b180-66406631478b",
   "metadata": {},
   "outputs": [],
   "source": [
    "import requests\n",
    "from tqdm.auto import tqdm"
   ]
  },
  {
   "cell_type": "code",
   "execution_count": null,
   "id": "b6409778-48cc-4b2c-8d92-5b39ab137c5a",
   "metadata": {},
   "outputs": [],
   "source": [
    "from dsmlibrary.datanode import DataNode"
   ]
  },
  {
   "cell_type": "code",
   "execution_count": null,
   "id": "5fbceb23-4e6f-4d7c-a9f5-c7b4c17206fe",
   "metadata": {},
   "outputs": [],
   "source": [
    "dir_raw_id = 62"
   ]
  },
  {
   "cell_type": "code",
   "execution_count": null,
   "id": "0adf9f0b-abd6-4075-8634-81c796de2523",
   "metadata": {},
   "outputs": [],
   "source": [
    "datanode = DataNode()"
   ]
  },
  {
   "cell_type": "code",
   "execution_count": null,
   "id": "ec0e3059-43ae-44e1-a5d5-2568703a1935",
   "metadata": {},
   "outputs": [],
   "source": [
    "datanode.upload_file(directory_id=dir_raw_id, file_path='jewelry_events_top100.json')"
   ]
  }
 ],
 "metadata": {
  "kernelspec": {
   "display_name": "Python 3 (ipykernel)",
   "language": "python",
   "name": "python3"
  },
  "language_info": {
   "codemirror_mode": {
    "name": "ipython",
    "version": 3
   },
   "file_extension": ".py",
   "mimetype": "text/x-python",
   "name": "python",
   "nbconvert_exporter": "python",
   "pygments_lexer": "ipython3",
   "version": "3.10.5"
  }
 },
 "nbformat": 4,
 "nbformat_minor": 5
}
